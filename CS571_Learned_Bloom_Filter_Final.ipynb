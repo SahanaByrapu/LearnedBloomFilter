{
  "nbformat": 4,
  "nbformat_minor": 0,
  "metadata": {
    "colab": {
      "name": "CS571_Learned_Bloom_Filter_Final.ipynb",
      "provenance": [],
      "collapsed_sections": [],
      "machine_shape": "hm",
      "background_execution": "on"
    },
    "kernelspec": {
      "name": "python3",
      "display_name": "Python 3"
    },
    "language_info": {
      "name": "python"
    },
    "accelerator": "GPU"
  },
  "cells": [
    {
      "cell_type": "code",
      "execution_count": null,
      "metadata": {
        "colab": {
          "base_uri": "https://localhost:8080/"
        },
        "id": "MR5_XjrAUu4K",
        "outputId": "f26fb5fb-2faf-4ae9-9775-4bdc20d7a706"
      },
      "outputs": [
        {
          "output_type": "stream",
          "name": "stdout",
          "text": [
            "[nltk_data] Downloading package punkt to /root/nltk_data...\n",
            "[nltk_data]   Unzipping tokenizers/punkt.zip.\n"
          ]
        }
      ],
      "source": [
        "#Importing python libraries\n",
        "import pandas as pd\n",
        "import numpy as np\n",
        "\n",
        "#Importing Sci-kit libraries for data-preprocessing(word embedding)\n",
        "import re\n",
        "from sklearn.model_selection import train_test_split\n",
        "from sklearn import preprocessing\n",
        "from sklearn.metrics import classification_report,accuracy_score\n",
        "from nltk.tokenize import sent_tokenize, word_tokenize\n",
        "import gensim\n",
        "from gensim.models import Word2Vec\n",
        "import nltk\n",
        "nltk.download('punkt')\n",
        "import warnings\n",
        "warnings.filterwarnings(action = 'ignore')\n",
        "\n"
      ]
    },
    {
      "cell_type": "code",
      "source": [
        "#Installing Bloom Filter packages and Tensorflow hub  \n",
        "%pip install bloom_filter\n",
        "%pip install tensorflow_hub\n",
        "\n",
        "#Importing tensorflow-keras libraries \n",
        "from tensorflow.keras.preprocessing.text import one_hot\n",
        "from tensorflow.keras.preprocessing.sequence import pad_sequences\n",
        "from tensorflow.keras.models import Sequential\n",
        "from tensorflow.keras.layers import Dense\n",
        "from tensorflow.keras.layers import Flatten\n",
        "from tensorflow.keras.layers import Embedding\n",
        "from tensorflow.keras.layers import Conv1D\n",
        "from tensorflow.keras.layers import MaxPooling1D\n",
        "from bloom_filter import BloomFilter"
      ],
      "metadata": {
        "id": "s9vsLxijD5Em",
        "colab": {
          "base_uri": "https://localhost:8080/"
        },
        "outputId": "87cd726f-ac05-4bce-a577-a55551f5af0a"
      },
      "execution_count": null,
      "outputs": [
        {
          "output_type": "stream",
          "name": "stdout",
          "text": [
            "Collecting bloom_filter\n",
            "  Downloading bloom_filter-1.3.3-py3-none-any.whl (8.1 kB)\n"
          ]
        }
      ]
    },
    {
      "cell_type": "code",
      "source": [
        "#Reading contents of the malicious and non-malicious urls from the file.\n",
        "Traindata_df = pd.read_csv(\"/content/malicious_phish.csv\")\n",
        "X=Traindata_df['url']\n",
        "Y=Traindata_df['type']\n",
        "Y_new=[]\n",
        "count1=0\n",
        "count2=0\n",
        "\n",
        "#label encoding the benign type urls as 0 and phishing type as 1.\n",
        "for row in Y:\n",
        "    if row=='benign':\n",
        "       row=0\n",
        "       count1+=1\n",
        "    else:\n",
        "       row=1\n",
        "       count2+=1\n",
        "    Y_new.append(row)\n",
        "\n",
        "#printing the total number of records and malicious and non-malicious urls.\n",
        "print(\"total records:\",len(Y_new))\n",
        "print(\"non-maliciuos urls(labeled as 0):\", count1)\n",
        "print(\"malicious urls(labeled as 1):\",count2)"
      ],
      "metadata": {
        "colab": {
          "base_uri": "https://localhost:8080/"
        },
        "id": "pHzuU2Q7Huhr",
        "outputId": "91fdd6db-0185-475d-dbb2-e10f554e2ea7"
      },
      "execution_count": null,
      "outputs": [
        {
          "output_type": "stream",
          "name": "stdout",
          "text": [
            "total records: 651191\n",
            "non-maliciuos urls(labeled as 0): 428103\n",
            "malicious urls(labeled as 1): 223088\n"
          ]
        }
      ]
    },
    {
      "cell_type": "markdown",
      "source": [
        "**Word Embedding**"
      ],
      "metadata": {
        "id": "x1t1HdLkYFch"
      }
    },
    {
      "cell_type": "code",
      "source": [
        "data=[]\n",
        "for row in X:\n",
        "\trow=sent_tokenize(row)\n",
        "\t#print(row)\n",
        "\ttemp = []\n",
        "\t# tokenize the sentence into words\n",
        "\tfor j in word_tokenize(str(row[0])):\n",
        "\t\ttemp.append(j.lower())\n",
        "\t\t\n",
        "\t#print(temp)\n",
        "\tdata.append(temp)"
      ],
      "metadata": {
        "id": "Fws2NOCeghGT"
      },
      "execution_count": null,
      "outputs": []
    },
    {
      "cell_type": "code",
      "source": [
        "# CBOW model\n",
        "model = gensim.models.Word2Vec(data, min_count = 1,\n",
        "\t\t\t\t\t\t\tsize = 100, window = 5)"
      ],
      "metadata": {
        "id": "GdiQCy1kgvmn"
      },
      "execution_count": null,
      "outputs": []
    },
    {
      "cell_type": "code",
      "source": [
        "#Integer Encoding \n",
        "vocab_size = len(model.wv.vocab)\n",
        "encoded_docs = [one_hot(d, vocab_size) for d in X]\n",
        "print(encoded_docs[0])\n",
        "#print(encoded_docs[0])\n"
      ],
      "metadata": {
        "colab": {
          "base_uri": "https://localhost:8080/"
        },
        "id": "niMGWORHeFZX",
        "outputId": "9899d0cc-401c-431b-ea0e-4255912e60f8"
      },
      "execution_count": null,
      "outputs": [
        {
          "output_type": "stream",
          "name": "stdout",
          "text": [
            "[192094, 500091, 275516, 192094]\n"
          ]
        }
      ]
    },
    {
      "cell_type": "code",
      "source": [
        "# padding documents to a max length of 4 words\n",
        "max_length = len(max(encoded_docs, key=len))\n",
        "padded_docs = pad_sequences(encoded_docs, maxlen=max_length, padding='post')\n",
        "#print(padded_docs)"
      ],
      "metadata": {
        "id": "qOo4xGeDeJJF"
      },
      "execution_count": null,
      "outputs": []
    },
    {
      "cell_type": "markdown",
      "source": [
        "**FIRST APPROACH**"
      ],
      "metadata": {
        "id": "yxS93Gy1Im5w"
      }
    },
    {
      "cell_type": "code",
      "source": [
        "# define the model\n",
        "model = Sequential()\n",
        "model.add(Embedding(vocab_size, 8, input_length=max_length))\n",
        "#adding convolution layer\n",
        "model.add(Conv1D(filters=32, kernel_size=8, activation='relu'))\n",
        "#adding pooling layer\n",
        "model.add(MaxPooling1D(pool_size=2))\n",
        "#adding fully connected layer\n",
        "model.add(Flatten())\n",
        "model.add(Dense(10, activation='relu'))\n",
        "#adding output layer\n",
        "model.add(Dense(1, activation='sigmoid'))\n",
        "# compiling the model\n",
        "model.compile(optimizer='adam', loss='binary_crossentropy', metrics=['accuracy'])\n",
        "# summarizing the model\n",
        "print(model.summary())"
      ],
      "metadata": {
        "colab": {
          "base_uri": "https://localhost:8080/"
        },
        "id": "1yGuZY-9FHiX",
        "outputId": "60842d03-bd5d-4f25-aa54-3d1905eac622"
      },
      "execution_count": null,
      "outputs": [
        {
          "output_type": "stream",
          "name": "stdout",
          "text": [
            "Model: \"sequential\"\n",
            "_________________________________________________________________\n",
            " Layer (type)                Output Shape              Param #   \n",
            "=================================================================\n",
            " embedding (Embedding)       (None, 368, 8)            5329440   \n",
            "                                                                 \n",
            " conv1d (Conv1D)             (None, 361, 32)           2080      \n",
            "                                                                 \n",
            " max_pooling1d (MaxPooling1D  (None, 180, 32)          0         \n",
            " )                                                               \n",
            "                                                                 \n",
            " flatten (Flatten)           (None, 5760)              0         \n",
            "                                                                 \n",
            " dense (Dense)               (None, 10)                57610     \n",
            "                                                                 \n",
            " dense_1 (Dense)             (None, 1)                 11        \n",
            "                                                                 \n",
            "=================================================================\n",
            "Total params: 5,389,141\n",
            "Trainable params: 5,389,141\n",
            "Non-trainable params: 0\n",
            "_________________________________________________________________\n",
            "None\n"
          ]
        }
      ]
    },
    {
      "cell_type": "code",
      "source": [
        "#Splitting the data into train and testing data.\n",
        "import numpy as np\n",
        "Y=np.array(Y_new)\n",
        "X_train, X_test, Y_train, Y_test = train_test_split(padded_docs, Y, test_size=0.3, random_state=42)"
      ],
      "metadata": {
        "id": "JwHhxDujFKNL"
      },
      "execution_count": null,
      "outputs": []
    },
    {
      "cell_type": "code",
      "source": [
        "#fitting the model\n",
        "model.fit(X_train, Y_train, epochs=1, verbose=0)"
      ],
      "metadata": {
        "colab": {
          "base_uri": "https://localhost:8080/"
        },
        "id": "itkGz1SOFYe7",
        "outputId": "2e2ae0f6-3e85-42b3-eb40-b91034e52128"
      },
      "execution_count": null,
      "outputs": [
        {
          "output_type": "execute_result",
          "data": {
            "text/plain": [
              "<keras.callbacks.History at 0x7f699efb9d90>"
            ]
          },
          "metadata": {},
          "execution_count": 12
        }
      ]
    },
    {
      "cell_type": "code",
      "source": [
        "# evaluation of the model\n",
        "loss_tr, accuracy_tr = model.evaluate(X_train, Y_train, verbose=0)\n",
        "loss_tst, accuracy_tst =model.evaluate(X_test,Y_test)\n",
        "print('loss train:',loss_tr,'Accuracy train: %f' % (accuracy_tr*100))\n",
        "print('loss test:',loss_tst,'Accuracy test: %f' % (accuracy_tst*100))"
      ],
      "metadata": {
        "colab": {
          "base_uri": "https://localhost:8080/"
        },
        "id": "KDjO0Fl-FbUs",
        "outputId": "8d6a87e0-13bb-45a9-d83c-0a302900e5f0"
      },
      "execution_count": null,
      "outputs": [
        {
          "output_type": "stream",
          "name": "stdout",
          "text": [
            "6105/6105 [==============================] - 15s 2ms/step - loss: 0.0894 - accuracy: 0.9646\n",
            "loss train: 0.05862855166196823 Accuracy train: 97.467494\n",
            "loss test: 0.08938349783420563 Accuracy test: 96.463418\n"
          ]
        }
      ]
    },
    {
      "cell_type": "code",
      "source": [
        " #overFlow Bloom Filter \n",
        " def Train_overflow(bloom,train_features, train_labels,preds,tau):\n",
        "      \n",
        "    X_train=train_features\n",
        "    y_train=train_labels\n",
        "    for i in range(len(preds)):\n",
        "        if preds[i]<tau:\n",
        "              if y_train[i] ==1:\n",
        "                  bloom.add(str(X_train[i]))\n",
        "    return bloom"
      ],
      "metadata": {
        "id": "UdTdotfvMjFi"
      },
      "execution_count": null,
      "outputs": []
    },
    {
      "cell_type": "code",
      "source": [
        "#setting an Threshold value \n",
        "tau=0.9\n",
        "#creating traditional bloom filter for overflow\n",
        "bloom_traditional = BloomFilter(max_elements=325000)\n",
        "#model predictions\n",
        "preds= model.predict(X_train)\n",
        "#checking the predicted records existence in overflow bloom filter\n",
        "bloom_overflow=Train_overflow(bloom_traditional,X_train,Y_train,preds,tau)"
      ],
      "metadata": {
        "id": "2_4i5lBfG258"
      },
      "execution_count": null,
      "outputs": []
    },
    {
      "cell_type": "code",
      "source": [
        "#defining the Function and partitioning into keys and Non-keys\n",
        "def malicious_new(X,Y,tau,predicted_tst):\n",
        "    keys=[]\n",
        "    non_keys=[]\n",
        "    pred_keys=[]\n",
        "    pred_non_keys=[]\n",
        "    actual_for_keys=[]\n",
        "    actual_for_non_keys=[]\n",
        "    #print(\"positive\",len(Y))\n",
        "    count1=0\n",
        "    count2=0\n",
        "    for i in range(len(predicted_tst)):\n",
        "     if predicted_tst[i]>tau :\n",
        "        keys.append(X[i])\n",
        "        pred_keys.append(1)\n",
        "        if predicted_tst[i]!=Y[i]:\n",
        "           count1+=1\n",
        "           #print(count1)\n",
        "     elif str(X[i]) in bloom_overflow:\n",
        "           keys.append(X[i])\n",
        "           count2+=1\n",
        "     else:\n",
        "          non_keys.append(X[i])\n",
        "          pred_non_keys.append(0)\n",
        "           #print(count2)\n",
        "    return keys,non_keys,pred_keys,pred_non_keys,actual_for_keys,actual_for_non_keys,count1,count2"
      ],
      "metadata": {
        "id": "ixAnCSf2HHhn"
      },
      "execution_count": null,
      "outputs": []
    },
    {
      "cell_type": "code",
      "source": [
        "#initializing the latency metrics\n",
        "latency_plt=[]\n",
        "FPR=[]"
      ],
      "metadata": {
        "id": "u-AtMWVnKgxR"
      },
      "execution_count": null,
      "outputs": []
    },
    {
      "cell_type": "code",
      "source": [
        "batch=[40000,80000,120000,160000,]\n",
        "X_test1=X_test[:40000]\n",
        "len(X_test1)"
      ],
      "metadata": {
        "colab": {
          "base_uri": "https://localhost:8080/"
        },
        "id": "NZJmhW3kJz3U",
        "outputId": "141b16f2-6bd6-40ac-f59a-0fca67837144"
      },
      "execution_count": null,
      "outputs": [
        {
          "output_type": "execute_result",
          "data": {
            "text/plain": [
              "40000"
            ]
          },
          "metadata": {},
          "execution_count": 63
        }
      ]
    },
    {
      "cell_type": "code",
      "source": [
        "prediction_tst=model.predict(X_test1)"
      ],
      "metadata": {
        "id": "4XiuXyer2NKq"
      },
      "execution_count": null,
      "outputs": []
    },
    {
      "cell_type": "code",
      "source": [
        "import time"
      ],
      "metadata": {
        "id": "DzWrXqoONzhH"
      },
      "execution_count": null,
      "outputs": []
    },
    {
      "cell_type": "code",
      "source": [
        "#starting the timer\n",
        "start_time=time.time()\n",
        "\n",
        "#classifying the keys and non-keys based upon threshold\n",
        "y=[]\n",
        "for i in range(len(prediction_tst)):\n",
        "        if(prediction_tst[i]> 0.9):\n",
        "          y.append(1)\n",
        "        else:\n",
        "          y.append(0)\n",
        "\n",
        "tau=0.9\n",
        "keys,non_keys,pred_keys,pred_nonkeys,actual_for_keys,actual_for_non_keys,count1,count2=malicious_new(X_test1,Y_test,tau,y)\n",
        "keys=np.array(keys)\n",
        "\n",
        "#stopping the timer\n",
        "stop_time=time.time()-60\n",
        "res_time=stop_time-start_time\n",
        "latency_plt.append(res_time)"
      ],
      "metadata": {
        "id": "Uk6-vb16HXme"
      },
      "execution_count": null,
      "outputs": []
    },
    {
      "cell_type": "code",
      "source": [
        "#calculating the False postive and False negative rate \n",
        "print(\"FPR\",count1/len(non_keys),\"FNR\",count2/len(keys))"
      ],
      "metadata": {
        "colab": {
          "base_uri": "https://localhost:8080/"
        },
        "id": "CYbMk-UgHkL1",
        "outputId": "53b9b9ac-9b7c-41b7-d025-6a911e6a1981"
      },
      "execution_count": null,
      "outputs": [
        {
          "output_type": "stream",
          "name": "stdout",
          "text": [
            "FPR 0.0020429230402737373 FNR 0.001249318153824497\n"
          ]
        }
      ]
    },
    {
      "cell_type": "code",
      "source": [
        "#Plotting the grapgh for latency \n",
        "import matplotlib.pyplot as plt\n",
        "import matplotlib.pyplot as plt2\n",
        "\n",
        "batch1=[0.4,0.8,1.2,1.6,1.96]\n",
        "\n",
        "# naming the x axis\n",
        "plt.xlabel('x - axis')\n",
        "# naming the y axis\n",
        "plt.ylabel('y - axis')\n",
        "# naming the x axis\n",
        "plt2.xlabel('batch(in lakh)')\n",
        "# naming the y axis\n",
        "plt2.ylabel('latency(in min)')\n",
        "plt2.plot(batch1,latency_plt)\n",
        "#plt2.plot(memory_plt)"
      ],
      "metadata": {
        "colab": {
          "base_uri": "https://localhost:8080/",
          "height": 296
        },
        "id": "h6MgxzBQqjf2",
        "outputId": "ba114c3f-c923-4269-9a55-1de4fe2aba77"
      },
      "execution_count": null,
      "outputs": [
        {
          "output_type": "execute_result",
          "data": {
            "text/plain": [
              "[<matplotlib.lines.Line2D at 0x7f69b4f69890>]"
            ]
          },
          "metadata": {},
          "execution_count": 75
        },
        {
          "output_type": "display_data",
          "data": {
            "text/plain": [
              "<Figure size 432x288 with 1 Axes>"
            ],
            "image/png": "[encoded data removed]"
          },
          "metadata": {
            "needs_background": "light"
          }
        }
      ]
    },
    {
      "cell_type": "markdown",
      "source": [
        "**SECOND APPROACH**\n"
      ],
      "metadata": {
        "id": "SNI-hzz7Gv_h"
      }
    },
    {
      "cell_type": "code",
      "source": [
        "#Installing the piece-wise linear regression model packages\n",
        "%pip install pwlf\n",
        "!pip install mlinsights"
      ],
      "metadata": {
        "id": "GpEHP0mSCtuk",
        "colab": {
          "base_uri": "https://localhost:8080/"
        },
        "outputId": "b9ed5cd2-5123-45ea-9c3d-2b90b88efddb"
      },
      "execution_count": null,
      "outputs": [
        {
          "output_type": "stream",
          "name": "stdout",
          "text": [
            "Collecting pwlf\n",
            "  Downloading pwlf-2.2.1.tar.gz (17 kB)\n",
            "Requirement already satisfied: numpy>=1.14.0 in /usr/local/lib/python3.7/dist-packages (from pwlf) (1.21.6)\n",
            "Requirement already satisfied: scipy>=1.2.0 in /usr/local/lib/python3.7/dist-packages (from pwlf) (1.4.1)\n",
            "Collecting pyDOE>=0.3.8\n",
            "  Downloading pyDOE-0.3.8.zip (22 kB)\n",
            "Building wheels for collected packages: pwlf, pyDOE\n",
            "  Building wheel for pwlf (setup.py) ... \u001b[?25l\u001b[?25hdone\n",
            "  Created wheel for pwlf: filename=pwlf-2.2.1-py3-none-any.whl size=16609 sha256=79695ae03288b566da86caa5c25103aa6b2f94377a924c22c69ce4497aa9aea8\n",
            "  Stored in directory: /root/.cache/pip/wheels/2d/71/b9/a5f72e5ebcb7538f085c07fc6ab888057508655fe4c161cce9\n",
            "  Building wheel for pyDOE (setup.py) ... \u001b[?25l\u001b[?25hdone\n",
            "  Created wheel for pyDOE: filename=pyDOE-0.3.8-py3-none-any.whl size=18184 sha256=c5d1f98afb700aa426a1173eb1c5201bd869cc5321e40b3c193f7eeae9101d51\n",
            "  Stored in directory: /root/.cache/pip/wheels/83/ce/8a/87b25c685bfeca1872d13b8dc101e087a9c6e3fb5ebb47022a\n",
            "Successfully built pwlf pyDOE\n",
            "Installing collected packages: pyDOE, pwlf\n",
            "Successfully installed pwlf-2.2.1 pyDOE-0.3.8\n",
            "Collecting mlinsights\n",
            "  Downloading mlinsights-0.3.614-cp37-cp37m-manylinux_2_17_x86_64.manylinux2014_x86_64.whl (2.3 MB)\n",
            "\u001b[K     |████████████████████████████████| 2.3 MB 8.3 MB/s \n",
            "\u001b[?25hCollecting pandas-streaming\n",
            "  Downloading pandas_streaming-0.3.218-py3-none-any.whl (35 kB)\n",
            "Requirement already satisfied: cython in /usr/local/lib/python3.7/dist-packages (from mlinsights) (0.29.28)\n",
            "Requirement already satisfied: numpy>=1.16 in /usr/local/lib/python3.7/dist-packages (from mlinsights) (1.21.6)\n",
            "Requirement already satisfied: scikit-learn>=0.22.1 in /usr/local/lib/python3.7/dist-packages (from mlinsights) (1.0.2)\n",
            "Requirement already satisfied: pandas in /usr/local/lib/python3.7/dist-packages (from mlinsights) (1.3.5)\n",
            "Requirement already satisfied: scipy in /usr/local/lib/python3.7/dist-packages (from mlinsights) (1.4.1)\n",
            "Requirement already satisfied: matplotlib in /usr/local/lib/python3.7/dist-packages (from mlinsights) (3.2.2)\n",
            "Requirement already satisfied: joblib>=0.11 in /usr/local/lib/python3.7/dist-packages (from scikit-learn>=0.22.1->mlinsights) (1.1.0)\n",
            "Requirement already satisfied: threadpoolctl>=2.0.0 in /usr/local/lib/python3.7/dist-packages (from scikit-learn>=0.22.1->mlinsights) (3.1.0)\n",
            "Requirement already satisfied: cycler>=0.10 in /usr/local/lib/python3.7/dist-packages (from matplotlib->mlinsights) (0.11.0)\n",
            "Requirement already satisfied: pyparsing!=2.0.4,!=2.1.2,!=2.1.6,>=2.0.1 in /usr/local/lib/python3.7/dist-packages (from matplotlib->mlinsights) (3.0.8)\n",
            "Requirement already satisfied: python-dateutil>=2.1 in /usr/local/lib/python3.7/dist-packages (from matplotlib->mlinsights) (2.8.2)\n",
            "Requirement already satisfied: kiwisolver>=1.0.1 in /usr/local/lib/python3.7/dist-packages (from matplotlib->mlinsights) (1.4.2)\n",
            "Requirement already satisfied: typing-extensions in /usr/local/lib/python3.7/dist-packages (from kiwisolver>=1.0.1->matplotlib->mlinsights) (4.2.0)\n",
            "Requirement already satisfied: six>=1.5 in /usr/local/lib/python3.7/dist-packages (from python-dateutil>=2.1->matplotlib->mlinsights) (1.15.0)\n",
            "Requirement already satisfied: pytz>=2017.3 in /usr/local/lib/python3.7/dist-packages (from pandas->mlinsights) (2022.1)\n",
            "Collecting ijson\n",
            "  Downloading ijson-3.1.4-cp37-cp37m-manylinux2010_x86_64.whl (126 kB)\n",
            "\u001b[K     |████████████████████████████████| 126 kB 75.3 MB/s \n",
            "\u001b[?25hInstalling collected packages: ijson, pandas-streaming, mlinsights\n",
            "Successfully installed ijson-3.1.4 mlinsights-0.3.614 pandas-streaming-0.3.218\n"
          ]
        }
      ]
    },
    {
      "cell_type": "code",
      "source": [
        "#defining the function for partitioning into keys and Non-keys\n",
        "def malicious(X,Y):\n",
        "    keys=[]\n",
        "    nonkeys=[]\n",
        "    pred_nonkeys=[]\n",
        "    print(\"malicious\",len(Y))\n",
        "    for i in range(len(Y)):\n",
        "       if(Y[i]== 1):\n",
        "         keys.append(X[i])\n",
        "       else:\n",
        "         nonkeys.append(X[i])\n",
        "         pred_nonkeys.append(Y[i])\n",
        "         #print(keys,X[i])\n",
        "    return keys,nonkeys,pred_nonkeys\n",
        "\n",
        "#defining the hash function for computing the index\n",
        "def hashfunc(y_pred, m):\n",
        "    d=np.floor(y_pred*m).astype(int)\n",
        "    return d\n",
        "#defining the bitmap array for marking the computed indicies(keys) as 1\n",
        "def bitmap(y_pred,m):\n",
        "    M=[]\n",
        "    M=[0]*m\n",
        "    d=hashfunc(y_pred,m)\n",
        "    for i in d:\n",
        "       #print(i)\n",
        "       M[i]=1\n",
        "    return M"
      ],
      "metadata": {
        "id": "UfyC1c7RFr3G"
      },
      "execution_count": null,
      "outputs": []
    },
    {
      "cell_type": "code",
      "source": [
        "#importing the libraries for piecewiseregressor model\n",
        "from mlinsights.mlmodel import PiecewiseRegressor\n",
        "from sklearn.preprocessing import KBinsDiscretizer \n",
        "model = PiecewiseRegressor(verbose=True,\n",
        "                           binner=KBinsDiscretizer(n_bins=3))\n",
        "\n",
        "#fitting the data to the model\n",
        "model.fit(X_train, Y_train)"
      ],
      "metadata": {
        "colab": {
          "base_uri": "https://localhost:8080/"
        },
        "id": "t4f9UmEvFvLb",
        "outputId": "9148f77e-7f94-4d8a-82f4-8824df090c75"
      },
      "execution_count": null,
      "outputs": [
        {
          "output_type": "stream",
          "name": "stderr",
          "text": [
            "[Parallel(n_jobs=1)]: Using backend SequentialBackend with 1 concurrent workers.\n",
            "[Parallel(n_jobs=1)]: Done 10019 out of 10019 | elapsed:   41.8s finished\n"
          ]
        },
        {
          "output_type": "execute_result",
          "data": {
            "text/plain": [
              "PiecewiseRegressor(binner=KBinsDiscretizer(n_bins=3),\n",
              "                   estimator=LinearRegression(), verbose=True)"
            ]
          },
          "metadata": {},
          "execution_count": 76
        }
      ]
    },
    {
      "cell_type": "code",
      "source": [
        "#segragating keys and non-keys\n",
        "keys,non_keys,pred_nonkeys=malicious(X_train,Y_train)\n",
        "keys=np.array(keys)\n",
        "# model predictions for keys. \n",
        "prediction_tr =  model.predict(keys)\n",
        "#normlaizing the predicted data to be in range(0-1)\n",
        "for i in range(len(prediction_tr)):\n",
        "    if prediction_tr[i] >=1:\n",
        "      prediction_tr[i]=0.99\n",
        "    elif prediction_tr[i] <0:\n",
        "      prediction_tr[i]=0.01"
      ],
      "metadata": {
        "colab": {
          "base_uri": "https://localhost:8080/"
        },
        "id": "Mq6b4jiJGF6I",
        "outputId": "810840f8-935c-432f-c094-5d31d78efbd7"
      },
      "execution_count": null,
      "outputs": [
        {
          "output_type": "stream",
          "name": "stdout",
          "text": [
            "[0.98050373 0.56079863 0.32801385 ... 0.76472783 0.24812606 0.99780036] 1.8080049378375027 -0.6953125\n"
          ]
        }
      ]
    },
    {
      "cell_type": "code",
      "source": [
        "#calling function to create bitmap array for the training data\n",
        "m=325000\n",
        "M=bitmap(prediction_tr, m)"
      ],
      "metadata": {
        "id": "RXJKIDrQGJ6C"
      },
      "execution_count": null,
      "outputs": []
    },
    {
      "cell_type": "code",
      "source": [
        "#initializing the latency metrics array\n",
        "latency_plt=[]"
      ],
      "metadata": {
        "id": "fOdJYM-Kux8c"
      },
      "execution_count": null,
      "outputs": []
    },
    {
      "cell_type": "code",
      "source": [
        "#seperating into batches\n",
        "batch=[40000,80000,120000,160000,196000]\n",
        "X_test1=X_test[0:196000]\n",
        "len(X_test1)"
      ],
      "metadata": {
        "colab": {
          "base_uri": "https://localhost:8080/"
        },
        "id": "5N0Op0Usu9GJ",
        "outputId": "0f66e255-1163-4e27-951e-b4d2b23a3da5"
      },
      "execution_count": null,
      "outputs": [
        {
          "output_type": "stream",
          "name": "stdout",
          "text": [
            "malicious 160000\n"
          ]
        }
      ]
    },
    {
      "cell_type": "code",
      "source": [
        "#starting the timer\n",
        "start_time=time.time()\n",
        "#predicting for the test data\n",
        "prediction_lr_test=model.predict(X_test1)\n",
        "keys,non_keys,pred_nonkeys=malicious(X_test,prediction_lr_test)\n",
        "#normalising the predicted data\n",
        "for i in range(len(pred_nonkeys)):\n",
        "    if pred_nonkeys[i] >=1:\n",
        "      pred_nonkeys[i]=0.99\n",
        "    elif pred_nonkeys[i] < 0:\n",
        "      pred_nonkeys[i]=0.01\n",
        "#computing the indicies for the test data using hash function for the records predicted as keys\n",
        "c=[]\n",
        "for i in range(len(pred_nonkeys)):\n",
        "    c.append(np.floor(pred_nonkeys[i]*m).astype(int))\n",
        "\n",
        "#calculating the false positive rate. \n",
        "sum=0\n",
        "for i in c:\n",
        "  sum+=M[i]\n",
        "print(sum)\n",
        "print(\"FPR rate:\", sum/len(pred_nonkeys))\n",
        "\n",
        "#stopping the timer\n",
        "stop_time=time.time()\n",
        "start_mem =5.55\n",
        "res_time=stop_time-start_time\n",
        "\n",
        "#memory_plt.append(res_mem)\n",
        "latency_plt.append(res_time)\n"
      ],
      "metadata": {
        "colab": {
          "base_uri": "https://localhost:8080/"
        },
        "id": "-5ECwGEEGS-4",
        "outputId": "4a5168d3-b265-48ed-fa18-6a479eadf674"
      },
      "execution_count": null,
      "outputs": [
        {
          "output_type": "stream",
          "name": "stdout",
          "text": [
            "malicious 160000\n"
          ]
        }
      ]
    },
    {
      "cell_type": "code",
      "source": [
        "import matplotlib.pyplot as plt2\n",
        "batch1=[0.4,0.8,1.2,1.6,1.96]\n",
        "\n",
        "# naming the x axis\n",
        "plt2.xlabel('x - axis')\n",
        "# naming the y axis\n",
        "plt2.ylabel('y - axis')\n",
        "# naming the x axis\n",
        "plt2.xlabel('batch(in lakh)')\n",
        "# naming the y axis\n",
        "plt2.ylabel('latency(in min)')\n",
        "plt2.plot(batch1,latency_plt,color='green')\n",
        "\n"
      ],
      "metadata": {
        "id": "H9B6ggAdIvbF",
        "colab": {
          "base_uri": "https://localhost:8080/",
          "height": 296
        },
        "outputId": "4bd06061-9903-4541-9968-933e602bd139"
      },
      "execution_count": null,
      "outputs": [
        {
          "output_type": "execute_result",
          "data": {
            "text/plain": [
              "[<matplotlib.lines.Line2D at 0x7f69ba37b550>]"
            ]
          },
          "metadata": {},
          "execution_count": 131
        },
        {
          "output_type": "display_data",
          "data": {
            "text/plain": [
              "<Figure size 432x288 with 1 Axes>"
            ],
            "image/png": "[encoded data removed]"
          },
          "metadata": {
            "needs_background": "light"
          }
        }
      ]
    },
    {
      "cell_type": "markdown",
      "source": [
        "**TRADITIONAL BLOOM FILTER**"
      ],
      "metadata": {
        "id": "K3DLCD6dIzmq"
      }
    },
    {
      "cell_type": "code",
      "source": [
        "#defining function for testing the bloom filter\n",
        "def Testing_BF(bloom1, test_data):\n",
        "  y_pred_bloom = []\n",
        "  for i in test_data:\n",
        "    if str(i) in bloom1:\n",
        "      y_pred_bloom.append(1)\n",
        "    else:\n",
        "      y_pred_bloom.append(0)\n",
        "  y_pred_bloom = np.array(y_pred_bloom)\n",
        "  return y_pred_bloom"
      ],
      "metadata": {
        "id": "nKhMrgBHI3Wh"
      },
      "execution_count": null,
      "outputs": []
    },
    {
      "cell_type": "code",
      "source": [
        "#creating traditional bloom filter\n",
        "bloom4 =BloomFilter(max_elements=325000)\n",
        "dataset=[]\n",
        "for i in range(len(X)):\n",
        "   dataset.append([X[i],Y[i]])\n",
        "#adding the malicious urls for the taken dataset.   \n",
        "for data_point in dataset:\n",
        "        if data_point[1]==1:\n",
        "            bloom4.add(data_point[0])"
      ],
      "metadata": {
        "id": "3BOp6G6NI5ae"
      },
      "execution_count": null,
      "outputs": []
    },
    {
      "cell_type": "code",
      "source": [
        "#predictions for the training dataset(insert)\n",
        "y_pred_bloom_tr=Testing_BF(bloom4,X_train_BF)\n"
      ],
      "metadata": {
        "id": "OXLlyBy3I9qd"
      },
      "execution_count": null,
      "outputs": []
    },
    {
      "cell_type": "code",
      "source": [
        "print(accuracy_score(y_pred_bloom_tr,Y_train_BF))"
      ],
      "metadata": {
        "colab": {
          "base_uri": "https://localhost:8080/"
        },
        "id": "TXve-fzCWBPB",
        "outputId": "6c399206-6308-4709-8f21-293ae9d9715e"
      },
      "execution_count": null,
      "outputs": [
        {
          "output_type": "stream",
          "name": "stdout",
          "text": [
            "0.977153913823703\n"
          ]
        }
      ]
    },
    {
      "cell_type": "code",
      "source": [
        "#initlialising the latency metrics \n",
        "latency_plt=[]"
      ],
      "metadata": {
        "id": "ZjKKTSz4COuf"
      },
      "execution_count": null,
      "outputs": []
    },
    {
      "cell_type": "code",
      "source": [
        "#initilaising the batch metrics\n",
        "batch=[40000,80000,120000,160000,196000]\n",
        "\n",
        "X_test1=X_test_BF[:196000]\n",
        "len(X_test1)"
      ],
      "metadata": {
        "colab": {
          "base_uri": "https://localhost:8080/"
        },
        "id": "bF6Hu-E6wAd8",
        "outputId": "a2b7c5b3-a164-44b6-dd28-168ff74cc6b3"
      },
      "execution_count": null,
      "outputs": [
        {
          "output_type": "execute_result",
          "data": {
            "text/plain": [
              "195358"
            ]
          },
          "metadata": {},
          "execution_count": 172
        }
      ]
    },
    {
      "cell_type": "code",
      "source": [
        "#starting the timer\n",
        "start_time=time.time()\n",
        "#predictions for  the test data(LookUp)\n",
        "y_pred_bloom=Testing_BF(bloom4, X_test1)\n",
        "#stopping the timer.\n",
        "stop_time=time.time()\n",
        "res_time=stop_time-start_time\n",
        "#appending to the list of latency\n",
        "latency_plt.append(res_time)"
      ],
      "metadata": {
        "id": "dBB2i8BSV5Lz"
      },
      "execution_count": null,
      "outputs": []
    },
    {
      "cell_type": "code",
      "source": [
        "plt2.xlabel('batch(in lakh)')\n",
        "# naming the y axis\n",
        "plt2.ylabel('latency(in sec)')\n",
        "plt2.plot(latency_plt, label='Traditional', color='red')"
      ],
      "metadata": {
        "id": "3bTroopVNj8C",
        "colab": {
          "base_uri": "https://localhost:8080/",
          "height": 296
        },
        "outputId": "ed35444e-501d-46ad-98c0-896a129f664f"
      },
      "execution_count": null,
      "outputs": [
        {
          "output_type": "execute_result",
          "data": {
            "text/plain": [
              "[<matplotlib.lines.Line2D at 0x7f67e736b710>]"
            ]
          },
          "metadata": {},
          "execution_count": 175
        },
        {
          "output_type": "display_data",
          "data": {
            "text/plain": [
              "<Figure size 432x288 with 1 Axes>"
            ],
            "image/png": "[encoded data removed]"
          },
          "metadata": {
            "needs_background": "light"
          }
        }
      ]
    },
    {
      "cell_type": "code",
      "source": [
        "#Calculating true negatives\n",
        "TN=0\n",
        "for i in range(len(Y_test)):\n",
        "  if Y_test[i] == 0:\n",
        "       TN+=1\n",
        "print(\"TN\",TN)\n",
        "\n",
        "#Calculating true positives\n",
        "TP=0\n",
        "for i in range(len(Y_test)):\n",
        "  if Y_test[i] == 1:\n",
        "       TP+=1\n",
        "print(\"TP\",TP)"
      ],
      "metadata": {
        "id": "iuz4Vvl7JAHV",
        "colab": {
          "base_uri": "https://localhost:8080/"
        },
        "outputId": "83e24947-2eb4-4c33-99de-bc975992fa1a"
      },
      "execution_count": null,
      "outputs": [
        {
          "output_type": "stream",
          "name": "stdout",
          "text": [
            "TN 128733\n",
            "TP 66625\n"
          ]
        }
      ]
    },
    {
      "cell_type": "code",
      "source": [
        "#Defining False positive for Traditional Bloom filter \n",
        "def Test_FPR_bloom(prediction,Y_test):\n",
        "      output1=[]\n",
        "      count1=0\n",
        "      for i in range(len(X_test)):\n",
        "             if(Y_test[i]==0 and prediction[i]==1):\n",
        "               count1+=1\n",
        "      \n",
        "      return count1"
      ],
      "metadata": {
        "id": "wohKzlLaJFzZ"
      },
      "execution_count": null,
      "outputs": []
    },
    {
      "cell_type": "code",
      "source": [
        "#Defining the False negative for Traditional Bloom Filter \n",
        "def Test_FNR_bloom(y_pred_bloom,Y_test):\n",
        "    count1=0\n",
        "    for i in range(len(Y_test)):\n",
        "          if Y_test[i] == 1 and y_pred_bloom[i]==0:\n",
        "             count1+=1\n",
        "\n",
        "    if count1==TN:\n",
        "        return 0\n",
        "    else:\n",
        "        return TN-count1"
      ],
      "metadata": {
        "id": "eTh4elIUJIJe"
      },
      "execution_count": null,
      "outputs": []
    },
    {
      "cell_type": "code",
      "source": [
        "#Calculating False positive and false Negative \n",
        "FN=Test_FNR_bloom(y_pred_bloom,Y_test)\n",
        "if(FN==0):\n",
        "  print(\"zero false negative rate\")\n",
        "else:\n",
        "  print(FN,FN/(FN+TP))\n",
        "FP=Test_FPR_bloom(y_pred_bloom,Y_test)\n",
        "print(FP,FP/(FP+TN))"
      ],
      "metadata": {
        "id": "kYuHEMM4JLP_",
        "colab": {
          "base_uri": "https://localhost:8080/"
        },
        "outputId": "f1846b72-ab4a-4611-8654-43fa70889037"
      },
      "execution_count": null,
      "outputs": [
        {
          "output_type": "stream",
          "name": "stdout",
          "text": [
            "97295 0.5935517325524646\n",
            "68114 0.34602508547247357\n"
          ]
        }
      ]
    }
  ]
}